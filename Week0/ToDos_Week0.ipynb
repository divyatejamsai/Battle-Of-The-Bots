{
  "cells": [
    {
      "cell_type": "markdown",
      "metadata": {
        "id": "o4BQVnaAHC4F"
      },
      "source": [
        "## PyTorch Tutorial!!!\n",
        "In this assignment, you will be familiarized with the usage of the PyTorch library and how to build a model in two ways  \n",
        "It's quite similar to TensorFlow\n",
        "*   using the inbuilt layers in pytorch\n",
        "*   using custom layers to replicate the same result"
      ]
    },
    {
      "cell_type": "code",
      "execution_count": 1,
      "metadata": {
        "id": "Co1Y3oSoAqHp"
      },
      "outputs": [],
      "source": [
        "import torch\n",
        "import torch.nn as nn\n",
        "import torch.optim as optim\n",
        "from torchvision import datasets, transforms\n",
        "from torch.utils.data import DataLoader\n",
        "import matplotlib.pyplot as plt"
      ]
    },
    {
      "cell_type": "code",
      "execution_count": 2,
      "metadata": {
        "colab": {
          "base_uri": "https://localhost:8080/"
        },
        "id": "n-XeBIi6bpFT",
        "outputId": "096bd69b-a85a-4ba4-c742-bc0967eebc33"
      },
      "outputs": [
        {
          "output_type": "stream",
          "name": "stdout",
          "text": [
            "Using device: cpu\n"
          ]
        }
      ],
      "source": [
        "# Using the GPU if it exists\n",
        "device = torch.device(\"cuda\" if torch.cuda.is_available() else \"cpu\")\n",
        "print(f\"Using device: {device}\")"
      ]
    },
    {
      "cell_type": "markdown",
      "metadata": {
        "id": "n682ZxROHh_1"
      },
      "source": [
        "### Loading and preprocessing the Data\n",
        "We will directly be using the dataset included in literally any library that exists. MNIST really is THAT popular.  \n",
        "Link: https://docs.pytorch.org/vision/0.9/datasets.html#mnist"
      ]
    },
    {
      "cell_type": "code",
      "execution_count": 3,
      "metadata": {
        "id": "8zrkUXY8AvtN"
      },
      "outputs": [],
      "source": [
        "transform = transforms.Compose([transforms.ToTensor(), transforms.Normalize((0.5,), (0.5,))])\n",
        "\n",
        "train_dataset = datasets.MNIST(root='./data', train=True, transform=transform, download=True)\n",
        "test_dataset = datasets.MNIST(root='./data', train=False, transform=transform, download=True)\n",
        "\n",
        "train_loader = DataLoader(train_dataset, batch_size=64, shuffle=True)\n",
        "test_loader = DataLoader(test_dataset, batch_size=1000)"
      ]
    },
    {
      "cell_type": "markdown",
      "metadata": {
        "id": "d6W4VEerGYJ8"
      },
      "source": [
        "## Making a simple feedforward network\n",
        "\n",
        "The following is a simple feedforward model with three layers:\n",
        "* a flatten layer to convert our 28x28 images into a single array of length 784\n",
        "* a dense layer of 128 neurons with the relu activation function\n",
        "* finally a dense layer of 10 neurons with the softmax activation to get a distribution between the digits"
      ]
    },
    {
      "cell_type": "code",
      "execution_count": 4,
      "metadata": {
        "id": "zwFnJsE6vjf8"
      },
      "outputs": [],
      "source": [
        "# Build the model\n",
        "SequentialNet = nn.Sequential(\n",
        "    nn.Flatten(),\n",
        "    nn.Linear(784, 128),\n",
        "    nn.ReLU(),\n",
        "    nn.Linear(128, 64),\n",
        "    nn.ReLU(),\n",
        "    nn.Linear(64, 10)\n",
        ")"
      ]
    },
    {
      "cell_type": "markdown",
      "metadata": {
        "id": "7C8sQAEnbpFU"
      },
      "source": [
        "### Training and Testing loops"
      ]
    },
    {
      "cell_type": "code",
      "execution_count": 5,
      "metadata": {
        "id": "0zrlYXUobpFU"
      },
      "outputs": [],
      "source": [
        "# Training loop\n",
        "def train(model, loader, optimizer, loss_fn, epochs=5):\n",
        "    model.train()\n",
        "    for epoch in range(epochs):\n",
        "        total_loss = 0\n",
        "        for x, y in loader:\n",
        "            x, y = x.to(device), y.to(device)\n",
        "            optimizer.zero_grad()\n",
        "            logits = model(x)\n",
        "            loss = loss_fn(logits, y)\n",
        "            loss.backward()\n",
        "            optimizer.step()\n",
        "            total_loss += loss.item()\n",
        "        print(f\"Epoch {epoch+1}, Loss: {total_loss:.4f}\")\n",
        "\n",
        "# Testing loop\n",
        "def test(model, loader):\n",
        "    model.eval()\n",
        "    correct = 0\n",
        "    total = 0\n",
        "    with torch.no_grad():\n",
        "        for x, y in loader:\n",
        "            x, y = x.to(device), y.to(device)\n",
        "            logits = model(x)\n",
        "            pred = logits.argmax(dim=1)\n",
        "            correct += (pred == y).sum().item()\n",
        "            total += y.size(0)\n",
        "    print(f\"Accuracy: {100 * correct / total:.2f}%\")\n"
      ]
    },
    {
      "cell_type": "markdown",
      "metadata": {
        "id": "z8P3aHJrbpFV"
      },
      "source": [
        "### Training the sequential model"
      ]
    },
    {
      "cell_type": "code",
      "execution_count": 6,
      "metadata": {
        "colab": {
          "base_uri": "https://localhost:8080/"
        },
        "id": "X0DFuki-bpFV",
        "outputId": "baf8e82b-b7d1-45d9-a16e-a82be7be55f9"
      },
      "outputs": [
        {
          "output_type": "stream",
          "name": "stdout",
          "text": [
            "\n",
            "Training SequentialNet\n",
            "Epoch 1, Loss: 376.3619\n",
            "Epoch 2, Loss: 181.3185\n",
            "Epoch 3, Loss: 128.6057\n",
            "Epoch 4, Loss: 104.4831\n",
            "Epoch 5, Loss: 88.7335\n",
            "Accuracy: 96.58%\n"
          ]
        }
      ],
      "source": [
        "print(\"\\nTraining SequentialNet\")\n",
        "sequential_model = SequentialNet.to(device)\n",
        "optimizer_seq = optim.Adam(sequential_model.parameters(), lr=0.001)\n",
        "loss_fn = nn.CrossEntropyLoss()\n",
        "\n",
        "\n",
        "train(sequential_model, train_loader, optimizer_seq, loss_fn)\n",
        "test(sequential_model, test_loader)"
      ]
    },
    {
      "cell_type": "markdown",
      "metadata": {
        "id": "dCEMWK1KLZDT"
      },
      "source": [
        "### Manually building the same network from scratch\n",
        "You can use the simple sequential model we described above as a reference."
      ]
    },
    {
      "cell_type": "code",
      "execution_count": 7,
      "metadata": {
        "id": "zw53cAmELYJK"
      },
      "outputs": [],
      "source": [
        "# Custom model\n",
        "class ManualNet(nn.Module):\n",
        "    def __init__(self):\n",
        "        super(ManualNet, self).__init__()\n",
        "        # TODO: Define your paramters using nn.Parameters (the layers)\n",
        "        self.weights1 = nn.Parameter(torch.randn(size=(784, 128)))\n",
        "        self.biases1 = nn.Parameter(torch.zeros(size=(128,)))\n",
        "        self.weights2 = nn.Parameter(torch.randn(size=(128, 64)))\n",
        "        self.biases2 = nn.Parameter(torch.zeros(size=(64,)))\n",
        "        self.weights3 = nn.Parameter(torch.randn(size=(64, 10)))\n",
        "        self.biases3 = nn.Parameter(torch.zeros(size=(10,)))\n",
        "\n",
        "    def forward(self, x):\n",
        "        x = x.view(-1, 784)\n",
        "        # TODO: Do the forward pass using matrix multiplications and applying activation functions\n",
        "        outs1 = nn.ReLU()(x @ self.weights1 + self.biases1)\n",
        "        outs2 = nn.ReLU()(outs1 @ self.weights2 + self.biases2)\n",
        "        logits = outs2 @ self.weights3 + self. biases3\n",
        "        return logits"
      ]
    },
    {
      "cell_type": "markdown",
      "metadata": {
        "id": "2awBnbjnbpFW"
      },
      "source": [
        "### Training the manual model"
      ]
    },
    {
      "cell_type": "code",
      "execution_count": 8,
      "metadata": {
        "id": "zVer1-frbpFW",
        "colab": {
          "base_uri": "https://localhost:8080/"
        },
        "outputId": "79a2eef1-62da-43c2-e156-ecfea4cd3617"
      },
      "outputs": [
        {
          "output_type": "stream",
          "name": "stdout",
          "text": [
            "\n",
            "Training ManualNet\n",
            "Epoch 1, Loss: 20075.6697\n",
            "Epoch 2, Loss: 1702.5332\n",
            "Epoch 3, Loss: 1549.5128\n",
            "Epoch 4, Loss: 1352.0514\n",
            "Epoch 5, Loss: 1062.5347\n",
            "Epoch 6, Loss: 791.5129\n",
            "Epoch 7, Loss: 623.6038\n",
            "Epoch 8, Loss: 456.0811\n",
            "Epoch 9, Loss: 394.8917\n",
            "Epoch 10, Loss: 340.3167\n",
            "Epoch 11, Loss: 324.2909\n",
            "Epoch 12, Loss: 275.3422\n",
            "Epoch 13, Loss: 267.3717\n",
            "Epoch 14, Loss: 241.9764\n",
            "Epoch 15, Loss: 236.2244\n",
            "Epoch 16, Loss: 213.2589\n",
            "Epoch 17, Loss: 202.7333\n",
            "Epoch 18, Loss: 198.9942\n",
            "Epoch 19, Loss: 182.3959\n",
            "Epoch 20, Loss: 176.6558\n",
            "\n",
            "Testing ManualNet\n",
            "Accuracy: 94.28%\n"
          ]
        }
      ],
      "source": [
        "print(\"\\nTraining ManualNet\")\n",
        "# TODO: Create a ManualNet object and call it manual_model. Train and test it\n",
        "\n",
        "manual_model = ManualNet()\n",
        "manual_model.to(device)\n",
        "loss_fn = nn.CrossEntropyLoss()\n",
        "optimizer_man = optim.Adam(manual_model.parameters(), lr=0.007)\n",
        "\n",
        "train(manual_model, train_loader, optimizer_man, loss_fn, epochs=20)\n",
        "print(\"\\nTesting ManualNet\")\n",
        "test(manual_model, test_loader)\n"
      ]
    },
    {
      "cell_type": "markdown",
      "metadata": {
        "id": "iyTI_OWtbpFW"
      },
      "source": [
        "### Visualize the outputs of the models"
      ]
    },
    {
      "cell_type": "code",
      "execution_count": 9,
      "metadata": {
        "id": "P0jd6o0DoMvz",
        "colab": {
          "base_uri": "https://localhost:8080/",
          "height": 367
        },
        "outputId": "28c40826-e020-4c53-fd72-dacc8025bb28"
      },
      "outputs": [
        {
          "output_type": "display_data",
          "data": {
            "text/plain": [
              "<Figure size 1000x200 with 5 Axes>"
            ],
            "image/png": "[encoded data removed]"
          },
          "metadata": {}
        },
        {
          "output_type": "display_data",
          "data": {
            "text/plain": [
              "<Figure size 1000x200 with 5 Axes>"
            ],
            "image/png": "[encoded data removed]"
          },
          "metadata": {}
        }
      ],
      "source": [
        "def visualize(model, loader, n=5):\n",
        "    model.eval()\n",
        "    x, y = next(iter(loader))\n",
        "    x, y = x.to(device), y.to(device)\n",
        "    preds = model(x).argmax(dim=1)\n",
        "\n",
        "    plt.figure(figsize=(10, 2))\n",
        "    for i in range(n):\n",
        "        plt.subplot(1, n, i+1)\n",
        "        plt.imshow(x[i].cpu().squeeze(), cmap='gray')\n",
        "        plt.title(f\"T:{y[i].item()} P:{preds[i].item()}\")\n",
        "        plt.axis('off')\n",
        "    plt.show()\n",
        "\n",
        "visualize(manual_model, test_loader)\n",
        "visualize(sequential_model, test_loader)"
      ]
    },
    {
      "cell_type": "markdown",
      "metadata": {
        "id": "K_ymh-5LLyMY"
      },
      "source": [
        "## Assignment\n",
        "* Load and preprocess CIFAR100 dataset (not CIFAR10)\n",
        "* Build a feedforward network for it. You can experiment around with number of layers and and neurons in each layer and different activation functions\n",
        "* You are allowed to use nn.functional. (convolutions _might_ make your accuracy better)"
      ]
    },
    {
      "cell_type": "markdown",
      "metadata": {
        "id": "UqZyLAWcbpFW"
      },
      "source": [
        "# Bonus Assignment\n",
        "* Try the solving the \"Titanic Survival Prediction\" dataset from kaggle"
      ]
    }
  ],
  "metadata": {
    "colab": {
      "provenance": []
    },
    "kernelspec": {
      "display_name": ".venv",
      "language": "python",
      "name": "python3"
    },
    "language_info": {
      "name": "python",
      "version": "3.13.3"
    }
  },
  "nbformat": 4,
  "nbformat_minor": 0
}